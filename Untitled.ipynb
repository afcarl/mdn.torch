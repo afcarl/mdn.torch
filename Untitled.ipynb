{
 "cells": [
  {
   "cell_type": "code",
   "execution_count": 1,
   "metadata": {
    "collapsed": true
   },
   "outputs": [],
   "source": [
    "-- try kmeans in torch first\n",
    "require 'nn'\n",
    "require 'optim'\n",
    "require 'gnuplot'\n",
    "MDNCriterion = require 'MDNCriterion'"
   ]
  },
  {
   "cell_type": "code",
   "execution_count": 2,
   "metadata": {
    "collapsed": true
   },
   "outputs": [],
   "source": [
    "-- generate datafirst\n",
    "local nsamples = 200\n",
    "x = torch.Tensor(nsamples, 1)\n",
    "torch.uniform(x, 0, 1)\n",
    "noise = torch.Tensor(nsamples, 1)\n",
    "torch.uniform(noise, -0.1, 0.1)\n",
    "y = x + 0.3 * torch.sin(2 * 3.4 * x) + noise\n",
    "tmp = y:clone()\n",
    "y = x:clone()\n",
    "x = tmp:clone()"
   ]
  },
  {
   "cell_type": "code",
   "execution_count": 3,
   "metadata": {
    "collapsed": false
   },
   "outputs": [
    {
     "name": "stdout",
     "output_type": "stream",
     "text": [
      " [=============================================>]                               \b\b\b\b\b\b\b\b\b\b\b\b\b\b\b\b\b\b\b\b\b\b\b\b\b\b\b\b\b\b Tot: 8s325ms | Step: 2ms\b\b\b\b\b\b\b\b\b\b\b\b\b\b\b\b\b\b\b\b\b\b\b\b\b\b\b\b\b\b\b\b\b\b\b\b\b\b\b\b\b\b\b\b\b\b\b\b\b\b\b\b\b "
     ]
    }
   ],
   "source": [
    "kmeans = require 'kmeans'\n",
    "k = 3\n",
    "niter = 3000\n",
    "batchsize = x:size(1)--20\n",
    "centroids, totalcounts = kmeans(x, k, niter, batchsize, nil, true)"
   ]
  },
  {
   "cell_type": "code",
   "execution_count": 4,
   "metadata": {
    "collapsed": false
   },
   "outputs": [
    {
     "data": {
      "text/plain": [
       " 0.8953\n",
       " 0.2176\n",
       " 0.5063\n",
       "[torch.DoubleTensor of size 3x1]\n",
       "\n",
       "  92965\n",
       " 153205\n",
       " 353830\n",
       "[torch.DoubleTensor of size 3]\n",
       "\n"
      ]
     },
     "execution_count": 4,
     "metadata": {},
     "output_type": "execute_result"
    }
   ],
   "source": [
    "print (centroids)\n",
    "print (totalcounts)"
   ]
  },
  {
   "cell_type": "code",
   "execution_count": 5,
   "metadata": {
    "collapsed": false
   },
   "outputs": [],
   "source": [
    "-- create simple neural network\n",
    "nGaussians = 3\n",
    "hiddenDim = 30\n",
    "outputDim = 1\n",
    "net = nn.Sequential()\n",
    "net:add(nn.Linear(1, hiddenDim))\n",
    "net:add(nn.Tanh())\n",
    "\n",
    "outputNet = nn.ConcatTable()\n",
    "\n",
    "muLinear = nn.Linear(hiddenDim,outputDim*nGaussians)\n",
    "muLinear.weight:uniform(-3e-4,3e-4)\n",
    "muLinear.bias:copy(centroids)\n",
    "\n",
    "sigmaLinear = nn.Linear(hiddenDim,outputDim*nGaussians)\n",
    "sigmaLinear.weight:uniform(-3e-4,3e-4)\n",
    "sigmaLinear.bias:fill(1.0)\n",
    "\n",
    "alphaLinear = nn.Linear(hiddenDim,outputDim*nGaussians)\n",
    "alphaLinear.weight:uniform(-3e-4,3e-4)\n",
    "alphaLinear.bias:fill(1./nGaussians)\n",
    "\n",
    "outputNet:add(nn.Linear(hiddenDim,outputDim*nGaussians)) -- mu\n",
    "outputNet:add(nn.Linear(hiddenDim,outputDim*nGaussians)) -- sigma\n",
    "outputNet:add(nn.Linear(hiddenDim,outputDim*nGaussians)) -- alpha (pi)\n",
    "net:add(outputNet)\n",
    "\n",
    "criterion = nn.MDNCriterion(nGaussians, outputDim)"
   ]
  },
  {
   "cell_type": "code",
   "execution_count": 6,
   "metadata": {
    "collapsed": false
   },
   "outputs": [],
   "source": [
    "-- Train the model\n",
    "params, grad_params = net:getParameters()\n",
    "\n",
    "feval = function(params_new)\n",
    "   -- set x to x_new, if differnt\n",
    "   -- (in this simple example, x_new will typically always point to x,\n",
    "   -- so the copy is really useless)\n",
    "   if params ~= params_new then\n",
    "      params:copy(params_new)\n",
    "   end\n",
    "\n",
    "   -- reset gradients (gradients are always accumulated, to accommodate\n",
    "   -- batch methods)\n",
    "   grad_params:zero()\n",
    "\n",
    "   -- evaluate the loss function and its derivative wrt x, for that sample\n",
    "   local loss = criterion:forward(net:forward(x), y)\n",
    "   net:backward(x, criterion:backward(net.output, y))\n",
    "\n",
    "   -- return loss(x) and dloss/dx\n",
    "   return loss, grad_params\n",
    "end"
   ]
  },
  {
   "cell_type": "code",
   "execution_count": 7,
   "metadata": {
    "collapsed": false
   },
   "outputs": [
    {
     "name": "stdout",
     "output_type": "stream",
     "text": [
      " [=>............................................]                               \b\b\b\b\b\b\b\b\b\b\b\b\b\b\b\b\b\b\b\b\b\b\b\b\b\b\b\b\b\b ETA: 2m36s | Step: 82ms\b\b\b\b\b\b\b\b\b\b\b\b\b\b\b\b\b\b\b\b\b\b\b\b\b\b\b\b\b\b\b\b\b\b\b\b\b\b\b\b\b\b\b\b\b\b\b\b\b\b\b\b "
     ]
    },
    {
     "data": {
      "text/plain": [
       "-0.12490062436701\t\n"
      ]
     },
     "execution_count": 7,
     "metadata": {},
     "output_type": "execute_result"
    },
    {
     "name": "stdout",
     "output_type": "stream",
     "text": [
      " [===>..........................................]                               \b\b\b\b\b\b\b\b\b\b\b\b\b\b\b\b\b\b\b\b\b\b\b\b\b\b\b\b\b\b ETA: 2m30s | Step: 83ms\b\b\b\b\b\b\b\b\b\b\b\b\b\b\b\b\b\b\b\b\b\b\b\b\b\b\b\b\b\b\b\b\b\b\b\b\b\b\b\b\b\b\b\b\b\b\b\b\b\b\b\b "
     ]
    },
    {
     "data": {
      "text/plain": [
       "-0.39243534982565\t\n"
      ]
     },
     "execution_count": 7,
     "metadata": {},
     "output_type": "execute_result"
    },
    {
     "name": "stdout",
     "output_type": "stream",
     "text": [
      " [=====>........................................]                               \b\b\b\b\b\b\b\b\b\b\b\b\b\b\b\b\b\b\b\b\b\b\b\b\b\b\b\b\b\b ETA: 2m962ms | Step: 71ms\b\b\b\b\b\b\b\b\b\b\b\b\b\b\b\b\b\b\b\b\b\b\b\b\b\b\b\b\b\b\b\b\b\b\b\b\b\b\b\b\b\b\b\b\b\b\b\b\b\b\b\b\b\b "
     ]
    },
    {
     "data": {
      "text/plain": [
       "-0.73363317033723\t\n"
      ]
     },
     "execution_count": 7,
     "metadata": {},
     "output_type": "execute_result"
    },
    {
     "name": "stdout",
     "output_type": "stream",
     "text": [
      " [========>.....................................]                               \b\b\b\b\b\b\b\b\b\b\b\b\b\b\b\b\b\b\b\b\b\b\b\b\b\b\b\b\b\b ETA: 1m22s | Step: 51ms\b\b\b\b\b\b\b\b\b\b\b\b\b\b\b\b\b\b\b\b\b\b\b\b\b\b\b\b\b\b\b\b\b\b\b\b\b\b\b\b\b\b\b\b\b\b\b\b\b\b\b\b "
     ]
    },
    {
     "data": {
      "text/plain": [
       "-0.87277959358349\t\n"
      ]
     },
     "execution_count": 7,
     "metadata": {},
     "output_type": "execute_result"
    },
    {
     "name": "stdout",
     "output_type": "stream",
     "text": [
      " [==========>...................................]                               \b\b\b\b\b\b\b\b\b\b\b\b\b\b\b\b\b\b\b\b\b\b\b\b\b\b\b\b\b\b ETA: 1m8s | Step: 45ms\b\b\b\b\b\b\b\b\b\b\b\b\b\b\b\b\b\b\b\b\b\b\b\b\b\b\b\b\b\b\b\b\b\b\b\b\b\b\b\b\b\b\b\b\b\b\b\b\b\b\b "
     ]
    },
    {
     "data": {
      "text/plain": [
       "-1.0152764372146\t\n"
      ]
     },
     "execution_count": 7,
     "metadata": {},
     "output_type": "execute_result"
    },
    {
     "name": "stdout",
     "output_type": "stream",
     "text": [
      " [============>.................................]                               \b\b\b\b\b\b\b\b\b\b\b\b\b\b\b\b\b\b\b\b\b\b\b\b\b\b\b\b\b\b ETA: 59s977ms | Step: 42ms\b\b\b\b\b\b\b\b\b\b\b\b\b\b\b\b\b\b\b\b\b\b\b\b\b\b\b\b\b\b\b\b\b\b\b\b\b\b\b\b\b\b\b\b\b\b\b\b\b\b\b\b\b\b\b "
     ]
    },
    {
     "data": {
      "text/plain": [
       "-1.0701773726773\t\n"
      ]
     },
     "execution_count": 7,
     "metadata": {},
     "output_type": "execute_result"
    },
    {
     "name": "stdout",
     "output_type": "stream",
     "text": [
      " [===============>..............................]                               \b\b\b\b\b\b\b\b\b\b\b\b\b\b\b\b\b\b\b\b\b\b\b\b\b\b\b\b\b\b ETA: 53s625ms | Step: 41ms\b\b\b\b\b\b\b\b\b\b\b\b\b\b\b\b\b\b\b\b\b\b\b\b\b\b\b\b\b\b\b\b\b\b\b\b\b\b\b\b\b\b\b\b\b\b\b\b\b\b\b\b\b\b\b "
     ]
    },
    {
     "data": {
      "text/plain": [
       "-1.0882235447618\t\n"
      ]
     },
     "execution_count": 7,
     "metadata": {},
     "output_type": "execute_result"
    },
    {
     "name": "stdout",
     "output_type": "stream",
     "text": [
      " [=================>............................]                               \b\b\b\b\b\b\b\b\b\b\b\b\b\b\b\b\b\b\b\b\b\b\b\b\b\b\b\b\b\b ETA: 51s295ms | Step: 42ms\b\b\b\b\b\b\b\b\b\b\b\b\b\b\b\b\b\b\b\b\b\b\b\b\b\b\b\b\b\b\b\b\b\b\b\b\b\b\b\b\b\b\b\b\b\b\b\b\b\b\b\b\b\b\b "
     ]
    },
    {
     "data": {
      "text/plain": [
       "-1.1000625094752\t\n"
      ]
     },
     "execution_count": 7,
     "metadata": {},
     "output_type": "execute_result"
    },
    {
     "name": "stdout",
     "output_type": "stream",
     "text": [
      " [===================>..........................]                               \b\b\b\b\b\b\b\b\b\b\b\b\b\b\b\b\b\b\b\b\b\b\b\b\b\b\b\b\b\b ETA: 47s387ms | Step: 43ms\b\b\b\b\b\b\b\b\b\b\b\b\b\b\b\b\b\b\b\b\b\b\b\b\b\b\b\b\b\b\b\b\b\b\b\b\b\b\b\b\b\b\b\b\b\b\b\b\b\b\b\b\b\b\b "
     ]
    },
    {
     "data": {
      "text/plain": [
       "-1.1080031532071\t\n"
      ]
     },
     "execution_count": 7,
     "metadata": {},
     "output_type": "execute_result"
    },
    {
     "name": "stdout",
     "output_type": "stream",
     "text": [
      " [=====================>........................]                               \b\b\b\b\b\b\b\b\b\b\b\b\b\b\b\b\b\b\b\b\b\b\b\b\b\b\b\b\b\b ETA: 44s696ms | Step: 44ms\b\b\b\b\b\b\b\b\b\b\b\b\b\b\b\b\b\b\b\b\b\b\b\b\b\b\b\b\b\b\b\b\b\b\b\b\b\b\b\b\b\b\b\b\b\b\b\b\b\b\b\b\b\b\b "
     ]
    },
    {
     "data": {
      "text/plain": [
       "-1.1139162402879\t\n"
      ]
     },
     "execution_count": 7,
     "metadata": {},
     "output_type": "execute_result"
    },
    {
     "name": "stdout",
     "output_type": "stream",
     "text": [
      " [========================>.....................]                               \b\b\b\b\b\b\b\b\b\b\b\b\b\b\b\b\b\b\b\b\b\b\b\b\b\b\b\b\b\b ETA: 46s486ms | Step: 51ms\b\b\b\b\b\b\b\b\b\b\b\b\b\b\b\b\b\b\b\b\b\b\b\b\b\b\b\b\b\b\b\b\b\b\b\b\b\b\b\b\b\b\b\b\b\b\b\b\b\b\b\b\b\b\b "
     ]
    },
    {
     "data": {
      "text/plain": [
       "-1.1192269788073\t\n"
      ]
     },
     "execution_count": 7,
     "metadata": {},
     "output_type": "execute_result"
    },
    {
     "name": "stdout",
     "output_type": "stream",
     "text": [
      " [==========================>...................]                               \b\b\b\b\b\b\b\b\b\b\b\b\b\b\b\b\b\b\b\b\b\b\b\b\b\b\b\b\b\b ETA: 38s748ms | Step: 48ms\b\b\b\b\b\b\b\b\b\b\b\b\b\b\b\b\b\b\b\b\b\b\b\b\b\b\b\b\b\b\b\b\b\b\b\b\b\b\b\b\b\b\b\b\b\b\b\b\b\b\b\b\b\b\b "
     ]
    },
    {
     "data": {
      "text/plain": [
       "-1.1235506376919\t\n"
      ]
     },
     "execution_count": 7,
     "metadata": {},
     "output_type": "execute_result"
    },
    {
     "name": "stdout",
     "output_type": "stream",
     "text": [
      " [============================>.................]                               \b\b\b\b\b\b\b\b\b\b\b\b\b\b\b\b\b\b\b\b\b\b\b\b\b\b\b\b\b\b ETA: 32s178ms | Step: 46ms\b\b\b\b\b\b\b\b\b\b\b\b\b\b\b\b\b\b\b\b\b\b\b\b\b\b\b\b\b\b\b\b\b\b\b\b\b\b\b\b\b\b\b\b\b\b\b\b\b\b\b\b\b\b\b "
     ]
    },
    {
     "data": {
      "text/plain": [
       "-1.1272336256077\t\n"
      ]
     },
     "execution_count": 7,
     "metadata": {},
     "output_type": "execute_result"
    },
    {
     "name": "stdout",
     "output_type": "stream",
     "text": [
      " [===============================>..............]                               \b\b\b\b\b\b\b\b\b\b\b\b\b\b\b\b\b\b\b\b\b\b\b\b\b\b\b\b\b\b ETA: 28s542ms | Step: 47ms\b\b\b\b\b\b\b\b\b\b\b\b\b\b\b\b\b\b\b\b\b\b\b\b\b\b\b\b\b\b\b\b\b\b\b\b\b\b\b\b\b\b\b\b\b\b\b\b\b\b\b\b\b\b\b "
     ]
    },
    {
     "data": {
      "text/plain": [
       "-1.1304679247306\t\n"
      ]
     },
     "execution_count": 7,
     "metadata": {},
     "output_type": "execute_result"
    },
    {
     "name": "stdout",
     "output_type": "stream",
     "text": [
      " [=================================>............]                               \b\b\b\b\b\b\b\b\b\b\b\b\b\b\b\b\b\b\b\b\b\b\b\b\b\b\b\b\b\b ETA: 25s691ms | Step: 51ms\b\b\b\b\b\b\b\b\b\b\b\b\b\b\b\b\b\b\b\b\b\b\b\b\b\b\b\b\b\b\b\b\b\b\b\b\b\b\b\b\b\b\b\b\b\b\b\b\b\b\b\b\b\b\b "
     ]
    },
    {
     "data": {
      "text/plain": [
       "-1.1332867334138\t\n"
      ]
     },
     "execution_count": 7,
     "metadata": {},
     "output_type": "execute_result"
    },
    {
     "name": "stdout",
     "output_type": "stream",
     "text": [
      " [===================================>..........]                               \b\b\b\b\b\b\b\b\b\b\b\b\b\b\b\b\b\b\b\b\b\b\b\b\b\b\b\b\b\b ETA: 20s547ms | Step: 51ms\b\b\b\b\b\b\b\b\b\b\b\b\b\b\b\b\b\b\b\b\b\b\b\b\b\b\b\b\b\b\b\b\b\b\b\b\b\b\b\b\b\b\b\b\b\b\b\b\b\b\b\b\b\b\b "
     ]
    },
    {
     "data": {
      "text/plain": [
       "-1.1357897153301\t\n"
      ]
     },
     "execution_count": 7,
     "metadata": {},
     "output_type": "execute_result"
    },
    {
     "name": "stdout",
     "output_type": "stream",
     "text": [
      " [======================================>.......]                               \b\b\b\b\b\b\b\b\b\b\b\b\b\b\b\b\b\b\b\b\b\b\b\b\b\b\b\b\b\b ETA: 16s276ms | Step: 54ms\b\b\b\b\b\b\b\b\b\b\b\b\b\b\b\b\b\b\b\b\b\b\b\b\b\b\b\b\b\b\b\b\b\b\b\b\b\b\b\b\b\b\b\b\b\b\b\b\b\b\b\b\b\b\b "
     ]
    },
    {
     "data": {
      "text/plain": [
       "-1.138033421037\t\n"
      ]
     },
     "execution_count": 7,
     "metadata": {},
     "output_type": "execute_result"
    },
    {
     "name": "stdout",
     "output_type": "stream",
     "text": [
      " [========================================>.....]                               \b\b\b\b\b\b\b\b\b\b\b\b\b\b\b\b\b\b\b\b\b\b\b\b\b\b\b\b\b\b ETA: 12s507ms | Step: 62ms\b\b\b\b\b\b\b\b\b\b\b\b\b\b\b\b\b\b\b\b\b\b\b\b\b\b\b\b\b\b\b\b\b\b\b\b\b\b\b\b\b\b\b\b\b\b\b\b\b\b\b\b\b\b\b "
     ]
    },
    {
     "data": {
      "text/plain": [
       "-1.1400562640153\t\n"
      ]
     },
     "execution_count": 7,
     "metadata": {},
     "output_type": "execute_result"
    },
    {
     "name": "stdout",
     "output_type": "stream",
     "text": [
      " [==========================================>...]                               \b\b\b\b\b\b\b\b\b\b\b\b\b\b\b\b\b\b\b\b\b\b\b\b\b\b\b\b\b\b ETA: 5s445ms | Step: 54ms\b\b\b\b\b\b\b\b\b\b\b\b\b\b\b\b\b\b\b\b\b\b\b\b\b\b\b\b\b\b\b\b\b\b\b\b\b\b\b\b\b\b\b\b\b\b\b\b\b\b\b\b\b\b "
     ]
    },
    {
     "data": {
      "text/plain": [
       "-1.141896193263\t\n"
      ]
     },
     "execution_count": 7,
     "metadata": {},
     "output_type": "execute_result"
    },
    {
     "name": "stdout",
     "output_type": "stream",
     "text": [
      " [=============================================>]                               \b\b\b\b\b\b\b\b\b\b\b\b\b\b\b\b\b\b\b\b\b\b\b\b\b\b\b\b\b\b Tot: 1m43s | Step: 47ms\b\b\b\b\b\b\b\b\b\b\b\b\b\b\b\b\b\b\b\b\b\b\b\b\b\b\b\b\b\b\b\b\b\b\b\b\b\b\b\b\b\b\b\b\b\b\b\b\b\b\b\b "
     ]
    },
    {
     "data": {
      "text/plain": [
       "-1.1435807017513\t\n"
      ]
     },
     "execution_count": 7,
     "metadata": {},
     "output_type": "execute_result"
    }
   ],
   "source": [
    "require 'xlua'\n",
    "sgd_params = {\n",
    "   learningRate = 1e-2,\n",
    "}\n",
    "local numepochs = 2000\n",
    "--train simple network with mse loss model\n",
    "for i = 1,numepochs do\n",
    "   xlua.progress(i,numepochs)\n",
    "   -- this variable is used to estimate the average loss\n",
    "   current_loss = 0\n",
    "   _,fs = optim.adagrad(feval,params,sgd_params)\n",
    "   if i % 100 == 0 then\n",
    "      print (fs[1])\n",
    "   end\n",
    "end"
   ]
  },
  {
   "cell_type": "code",
   "execution_count": 29,
   "metadata": {
    "collapsed": false
   },
   "outputs": [],
   "source": [
    "mu, sigma, alpha = unpack(criterion.transf:forward(net:forward(x)))\n",
    "_, label = torch.max(alpha, 2)\n",
    "out = torch.Tensor(mu:size(1),1)\n",
    "for i = 1, out:size(1) do\n",
    "    out[i]:fill(mu[i][label[i][1]] + sigma[i][label[i][1]]*torch.normal())\n",
    "    --out[i]:fill(mu[i][label[i][1]])\n",
    "end\n",
    "gnuplot.plot('res', x[{{},1}], out[{{},1}], '.')\n",
    "--mu_ = mu[{{},label}]\n",
    "--sigma_ = sigma[{{},label}]\n",
    "--print (mu_:size())\n",
    "--print (sigma_:size())\n",
    "--out_ = mu_ + sigma_ * torch.Tensor(mu_:size(1),mu_:size(2)):normal()\n",
    "--[[\n",
    "mu, sigma, alpha = unpack(criterion.transf:forward(net:forward(x)))\n",
    "--mu, sigma, alpha = unpack(net:forward(x))\n",
    "scores = torch.Tensor(mu:size(1), nGaussians)\n",
    "for i = 1, mu:size(2) do\n",
    "    ds = torch.pow(mu - mu[{{},{i}}]:repeatTensor(1, nGaussians), 2) * 0.5\n",
    "    ds:cdiv(torch.pow(sigma, 2))\n",
    "    phi = torch.exp(-ds) / math.sqrt(2 * math.pi)\n",
    "    phi:cdiv(sigma):cmul(alpha)\n",
    "    scores[{{},i}]:copy(phi:sum(2))\n",
    "end\n",
    "_, label = torch.max(scores,2)\n",
    "res = mu[{{},label}]\n",
    "--]]"
   ]
  },
  {
   "cell_type": "code",
   "execution_count": 9,
   "metadata": {
    "collapsed": false
   },
   "outputs": [],
   "source": [
    "--gnuplot.plot('res', x[{{},1}], res[{{},1}], '.')"
   ]
  },
  {
   "cell_type": "code",
   "execution_count": null,
   "metadata": {
    "collapsed": true
   },
   "outputs": [],
   "source": []
  }
 ],
 "metadata": {
  "kernelspec": {
   "display_name": "iTorch",
   "language": "lua",
   "name": "itorch"
  },
  "language_info": {
   "name": "lua",
   "version": "5.1"
  }
 },
 "nbformat": 4,
 "nbformat_minor": 1
}
